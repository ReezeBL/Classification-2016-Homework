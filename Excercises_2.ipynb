{
 "cells": [
  {
   "cell_type": "code",
   "execution_count": 2,
   "metadata": {
    "collapsed": false
   },
   "outputs": [],
   "source": [
    "import numpy as np\n",
    "import scipy as sp\n",
    "import matplotlib.pyplot as plt\n",
    "import seaborn as sns\n",
    "\n",
    "%matplotlib inline"
   ]
  },
  {
   "cell_type": "markdown",
   "metadata": {},
   "source": [
    "# 1. Работа с массивами NumPy"
   ]
  },
  {
   "cell_type": "markdown",
   "metadata": {},
   "source": [
    "**N. Все упражнения ниже нужно делать без использования циклов Python**\n",
    "\n",
    "**1.** Cоздать вектор\n",
    "\n",
    "$$(2, \\frac{2^2}{2}, \\ldots, \\frac{2^{20}}{20})$$\n",
    "\n",
    "Можно использовать функции [np.arange()](http://docs.scipy.org/doc/numpy/reference/generated/numpy.arange.html), [np.ones()](http://docs.scipy.org/doc/numpy/reference/generated/numpy.ones.html)"
   ]
  },
  {
   "cell_type": "code",
   "execution_count": 6,
   "metadata": {
    "collapsed": false
   },
   "outputs": [
    {
     "name": "stdout",
     "output_type": "stream",
     "text": [
      "[  2.00000000e+00   2.00000000e+00   2.66666667e+00   4.00000000e+00\n",
      "   6.40000000e+00   1.06666667e+01   1.82857143e+01   3.20000000e+01\n",
      "   5.68888889e+01   1.02400000e+02   1.86181818e+02   3.41333333e+02\n",
      "   6.30153846e+02   1.17028571e+03   2.18453333e+03   4.09600000e+03\n",
      "   7.71011765e+03   1.45635556e+04   2.75941053e+04   5.24288000e+04]\n"
     ]
    }
   ],
   "source": [
    "pows = np.arange(1,21)\n",
    "twos = 2*np.ones(20)\n",
    "twos = twos**pows/pows\n",
    "print(twos)"
   ]
  },
  {
   "cell_type": "markdown",
   "metadata": {},
   "source": [
    "**2.** Посчитать:\n",
    "\n",
    "$$\\sum\\limits_{i=0}^{5}{0.1^{3i}0.2^{4i}}$$\n"
   ]
  },
  {
   "cell_type": "code",
   "execution_count": 10,
   "metadata": {
    "collapsed": false
   },
   "outputs": [
    {
     "name": "stdout",
     "output_type": "stream",
     "text": [
      "1.0000016\n"
     ]
    }
   ],
   "source": [
    "i = np.arange(6)\n",
    "k = np.ones(6)\n",
    "res = ((0.1*k)**(3*i) * (0.2*k)**(4*i)).sum()\n",
    "print(res)"
   ]
  },
  {
   "cell_type": "markdown",
   "metadata": {},
   "source": [
    "**3.** Создать нулевую матрицe $8 \\times 8$, и заполнить её единицами в шахматном порядке."
   ]
  },
  {
   "cell_type": "code",
   "execution_count": 19,
   "metadata": {
    "collapsed": false
   },
   "outputs": [
    {
     "name": "stdout",
     "output_type": "stream",
     "text": [
      "[[ 1.  0.  1.  0.  1.  0.  1.  0.]\n",
      " [ 0.  1.  0.  1.  0.  1.  0.  1.]\n",
      " [ 1.  0.  1.  0.  1.  0.  1.  0.]\n",
      " [ 0.  1.  0.  1.  0.  1.  0.  1.]\n",
      " [ 1.  0.  1.  0.  1.  0.  1.  0.]\n",
      " [ 0.  1.  0.  1.  0.  1.  0.  1.]\n",
      " [ 1.  0.  1.  0.  1.  0.  1.  0.]\n",
      " [ 0.  1.  0.  1.  0.  1.  0.  1.]]\n"
     ]
    }
   ],
   "source": [
    "mat = np.zeros((8,8))\n",
    "mat[::2,::2] = 1\n",
    "mat[1::2,1::2] = 1\n",
    "print(mat)"
   ]
  },
  {
   "cell_type": "markdown",
   "metadata": {},
   "source": [
    "**4.** Есть 5 точек в декартовой системе координат (в виде матрицы $X$ размерностью $5 \\times 2$), сконвертируйте эти точки в полярную систему координат."
   ]
  },
  {
   "cell_type": "code",
   "execution_count": 45,
   "metadata": {
    "collapsed": false
   },
   "outputs": [
    {
     "name": "stdout",
     "output_type": "stream",
     "text": [
      "[[ 1.25933905  0.71399854]\n",
      " [ 0.87864656  1.10901915]\n",
      " [ 0.28327468  1.02501715]\n",
      " [ 0.49543594  0.61625551]\n",
      " [ 0.66171258  0.34455245]]\n"
     ]
    }
   ],
   "source": [
    "X = np.random.random((5, 2))\n",
    "fi = np.arctan2(X[:,1],X[:,0])\n",
    "r = np.sqrt(X[:,0]**2 + X[:,1]**2)\n",
    "X[:,0] = r\n",
    "X[:,1] = fi\n",
    "print(X)"
   ]
  },
  {
   "cell_type": "markdown",
   "metadata": {},
   "source": [
    "**5.** Найдите индексы максимального элемента в случайной матрице $10 \\times 10$.\n",
    "\n",
    "Cм. [np.argmax()](http://docs.scipy.org/doc/numpy/reference/generated/numpy.argmax.html)."
   ]
  },
  {
   "cell_type": "code",
   "execution_count": 50,
   "metadata": {
    "collapsed": false
   },
   "outputs": [
    {
     "name": "stdout",
     "output_type": "stream",
     "text": [
      "[[ 0.93145737  0.276207    0.02169713  0.44414381  0.64709958  0.69115951\n",
      "   0.51717664  0.39973629  0.89599723  0.64489208]\n",
      " [ 0.38671489  0.96927937  0.79304205  0.54107736  0.60469313  0.94590625\n",
      "   0.57386341  0.48308215  0.4328415   0.17285315]\n",
      " [ 0.66129353  0.26919461  0.25736092  0.37359463  0.76087145  0.26816924\n",
      "   0.3034945   0.50909893  0.50440211  0.44425483]\n",
      " [ 0.62988529  0.62083824  0.84842712  0.28603199  0.63013294  0.36604124\n",
      "   0.10734093  0.60224576  0.81178589  0.20719165]\n",
      " [ 0.80038875  0.15434747  0.452451    0.47700208  0.4128591   0.26915343\n",
      "   0.81352134  0.16178272  0.96391673  0.29087844]\n",
      " [ 0.03841331  0.93670733  0.59576721  0.17225517  0.16235354  0.50347772\n",
      "   0.39772852  0.81461325  0.07761786  0.27528666]\n",
      " [ 0.52461723  0.355163    0.89276971  0.83708928  0.73693208  0.84884921\n",
      "   0.28650974  0.7115426   0.01821271  0.05126889]\n",
      " [ 0.79567915  0.32678681  0.42547111  0.15792707  0.4881698   0.1788843\n",
      "   0.91361991  0.29196321  0.9849264   0.51195863]\n",
      " [ 0.36138626  0.05495783  0.2752263   0.74171534  0.68182781  0.10372097\n",
      "   0.39345361  0.02403716  0.11958256  0.46384089]\n",
      " [ 0.74020788  0.53483255  0.97092359  0.04851681  0.92130388  0.75712513\n",
      "   0.67691538  0.24774395  0.2942109   0.71594868]]\n",
      "(7, 8)\n"
     ]
    }
   ],
   "source": [
    "X = np.random.random((10, 10))\n",
    "\n",
    "print(X)\n",
    "print(np.unravel_index(np.argmax(X),X.shape))"
   ]
  },
  {
   "cell_type": "markdown",
   "metadata": {},
   "source": [
    "**6.** Есть 10 точек ($X$) и ещё одна ($y$). Найти в $X$ ближайшую к $y$ точку."
   ]
  },
  {
   "cell_type": "code",
   "execution_count": 68,
   "metadata": {
    "collapsed": false
   },
   "outputs": [
    {
     "name": "stdout",
     "output_type": "stream",
     "text": [
      "[ 0.22024179  0.76125222];[ 0.38462616  0.60828421]\n"
     ]
    }
   ],
   "source": [
    "X = np.random.random((10, 2))\n",
    "y = np.random.random((1, 2))\n",
    "d = (X[:,0] - y[:,0])**2 + (X[:,1] - y[:,1])**2\n",
    "res = X[d.argmin()]\n",
    "print(res,y[0], sep = ';')"
   ]
  },
  {
   "cell_type": "markdown",
   "metadata": {},
   "source": [
    "**7.** Дана функция:\n",
    "\n",
    "$$\n",
    " \\begin{cases}\n",
    "    x^2 + 2x + 6, & x < 0  \\\\\n",
    "    x + 6, & 0 \\le x \\le 2 \\\\\n",
    "    x^2 + 4x - 4, & x \\ge 2\n",
    " \\end{cases}\n",
    "$$\n",
    "\n",
    "Постройте массив из её значений на  $-3 \\le x \\le 3$."
   ]
  },
  {
   "cell_type": "code",
   "execution_count": 58,
   "metadata": {
    "collapsed": false
   },
   "outputs": [
    {
     "name": "stdout",
     "output_type": "stream",
     "text": [
      "[  9.     8.61   8.24   7.89   7.56   7.25   6.96   6.69   6.44   6.21   6.\n",
      "   5.81   5.64   5.49   5.36   5.25   5.16   5.09   5.04   5.01   5.     5.01\n",
      "   5.04   5.09   5.16   5.25   5.36   5.49   5.64   5.81   6.     6.1    6.2\n",
      "   6.3    6.4    6.5    6.6    6.7    6.8    6.9    7.     7.1    7.2    7.3\n",
      "   7.4    7.5    7.6    7.7    7.8    7.9    8.     8.81   9.64  10.49\n",
      "  11.36  12.25  13.16  14.09  15.04  16.01]\n"
     ]
    }
   ],
   "source": [
    "@np.vectorize\n",
    "def f(x):\n",
    "    if x < 0:\n",
    "        return x*x + 2*x + 6\n",
    "    elif x >= 2:\n",
    "        return x*x + 4*x - 4\n",
    "    else:\n",
    "        return x + 6\n",
    "\n",
    "print(f(np.arange(-3,3,0.1)))"
   ]
  },
  {
   "cell_type": "markdown",
   "metadata": {},
   "source": [
    "**8.** Из каждого элемента матрицы вычесть среднее арифметическое от всех элементов в соответствующей строке (после чего среднее значение каждой строки должно равняться нулю).\n",
    "\n",
    "Cм. [np.mean()](http://docs.scipy.org/doc/numpy/reference/generated/numpy.mean.html)."
   ]
  },
  {
   "cell_type": "code",
   "execution_count": 80,
   "metadata": {
    "collapsed": false
   },
   "outputs": [
    {
     "name": "stdout",
     "output_type": "stream",
     "text": [
      "[ -1.11022302e-17   4.44089210e-17   5.55111512e-17   0.00000000e+00\n",
      "   2.22044605e-17   4.44089210e-17   0.00000000e+00  -9.99200722e-17\n",
      "  -3.33066907e-17   7.77156117e-17]\n"
     ]
    }
   ],
   "source": [
    "X = np.random.random((10, 10))\n",
    "\n",
    "m = np.mean(X, axis=1)\n",
    "X = (X.T - m).T\n",
    "m = np.mean(X, axis=1)\n",
    "print(m)"
   ]
  },
  {
   "cell_type": "markdown",
   "metadata": {},
   "source": [
    "**9.** Есть массив из 1000 чисел, полученных из генератора случайных чисел, имеющий нормальное распределение. Посчитайте выборочное среднее и выборочную дисперсию. "
   ]
  },
  {
   "cell_type": "code",
   "execution_count": 78,
   "metadata": {
    "collapsed": true
   },
   "outputs": [],
   "source": [
    "X = np.random.normal(loc=5, scale=2., size=1000)\n",
    "mean = np.mean(X)\n",
    "variance = np.var(X)"
   ]
  },
  {
   "cell_type": "markdown",
   "metadata": {},
   "source": [
    "**10.** Создать матрицу:\n",
    "\n",
    "$$\n",
    "\\begin{pmatrix}\n",
    "0 & 1 & 2 & 3 & 4 \\\\\n",
    "1 & 2 & 3 & 4 & 0 \\\\\n",
    "2 & 3 & 4 & 0 & 1 \\\\\n",
    "3 & 4 & 0 & 1 & 2 \\\\\n",
    "4 & 0 & 1 & 2 & 3\n",
    "\\end{pmatrix}\n",
    "$$"
   ]
  },
  {
   "cell_type": "code",
   "execution_count": 98,
   "metadata": {
    "collapsed": false
   },
   "outputs": [
    {
     "name": "stdout",
     "output_type": "stream",
     "text": [
      "[[ 0.  1.  2.  3.  4.]\n",
      " [ 1.  2.  3.  4.  5.]\n",
      " [ 2.  3.  4.  5.  6.]\n",
      " [ 3.  4.  5.  6.  7.]\n",
      " [ 4.  5.  6.  7.  8.]]\n"
     ]
    }
   ],
   "source": [
    "n = 5\n",
    "\n",
    "A = np.zeros((n,n))\n",
    "A += np.arange(n)\n",
    "A += A.T\n",
    "A[A>=n] -= n\n",
    "print(A)"
   ]
  },
  {
   "cell_type": "code",
   "execution_count": null,
   "metadata": {
    "collapsed": true
   },
   "outputs": [],
   "source": []
  },
  {
   "cell_type": "code",
   "execution_count": null,
   "metadata": {
    "collapsed": true
   },
   "outputs": [],
   "source": []
  }
 ],
 "metadata": {
  "kernelspec": {
   "display_name": "Python 3",
   "language": "python",
   "name": "python3"
  },
  "language_info": {
   "codemirror_mode": {
    "name": "ipython",
    "version": 3
   },
   "file_extension": ".py",
   "mimetype": "text/x-python",
   "name": "python",
   "nbconvert_exporter": "python",
   "pygments_lexer": "ipython3",
   "version": "3.5.1"
  }
 },
 "nbformat": 4,
 "nbformat_minor": 0
}
